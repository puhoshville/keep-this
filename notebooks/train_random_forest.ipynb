{
 "cells": [
  {
   "cell_type": "markdown",
   "metadata": {},
   "source": [
    "# KeepThis"
   ]
  },
  {
   "cell_type": "code",
   "execution_count": 1,
   "metadata": {},
   "outputs": [],
   "source": [
    "from keepthis import KeepThis\n",
    "keep = KeepThis('memcached', 11211)"
   ]
  },
  {
   "cell_type": "code",
   "execution_count": 2,
   "metadata": {},
   "outputs": [],
   "source": [
    "import time\n",
    "\n",
    "from sklearn.ensemble import RandomForestClassifier\n",
    "from sklearn.datasets import make_classification"
   ]
  },
  {
   "cell_type": "code",
   "execution_count": 3,
   "metadata": {},
   "outputs": [],
   "source": [
    "X, y = make_classification(\n",
    "    n_samples=100000, \n",
    "    n_features=4, \n",
    "    n_informative=2, \n",
    "    n_redundant=0, \n",
    "    random_state=0, \n",
    "    shuffle=False\n",
    ")"
   ]
  },
  {
   "cell_type": "code",
   "execution_count": 4,
   "metadata": {},
   "outputs": [],
   "source": [
    "@keep.this\n",
    "def train_model(X, y):\n",
    "    clf = RandomForestClassifier(n_estimators=100, max_depth=2, random_state=0)\n",
    "    clf.fit(X, y)\n",
    "    return clf"
   ]
  },
  {
   "cell_type": "code",
   "execution_count": 5,
   "metadata": {},
   "outputs": [
    {
     "name": "stdout",
     "output_type": "stream",
     "text": [
      "Time spent: 3.36273193359375\n",
      "[[0.79171106 0.20828894]\n",
      " [0.79171106 0.20828894]\n",
      " [0.29857569 0.70142431]\n",
      " [0.78728465 0.21271535]]\n"
     ]
    }
   ],
   "source": [
    "# FIRST RUN\n",
    "start_time = time.time()\n",
    "model_1 = train_model(X, y)\n",
    "print(f\"Time spent: {time.time() - start_time}\")\n",
    "\n",
    "print(model_1.predict_proba(X[:4]))"
   ]
  },
  {
   "cell_type": "code",
   "execution_count": 6,
   "metadata": {},
   "outputs": [
    {
     "name": "stdout",
     "output_type": "stream",
     "text": [
      "Time spent: 0.03487086296081543\n",
      "[[0.79171106 0.20828894]\n",
      " [0.79171106 0.20828894]\n",
      " [0.29857569 0.70142431]\n",
      " [0.78728465 0.21271535]]\n"
     ]
    }
   ],
   "source": [
    "# SECOND RUN\n",
    "start_time = time.time()\n",
    "model_2 = train_model(X, y)\n",
    "print(f\"Time spent: {time.time() - start_time}\")\n",
    "\n",
    "print(model_2.predict_proba(X[:4]))"
   ]
  },
  {
   "cell_type": "code",
   "execution_count": 7,
   "metadata": {},
   "outputs": [
    {
     "name": "stdout",
     "output_type": "stream",
     "text": [
      "Time spent: 1.664466142654419\n"
     ]
    }
   ],
   "source": [
    "# CHANGE INPUT DATA\n",
    "X = X[::2]\n",
    "y = y[::2]\n",
    "start_time = time.time()\n",
    "train_model(X, y)\n",
    "print(f\"Time spent: {time.time() - start_time}\")"
   ]
  },
  {
   "cell_type": "code",
   "execution_count": 8,
   "metadata": {},
   "outputs": [],
   "source": [
    "keep.drop()"
   ]
  }
 ],
 "metadata": {
  "kernelspec": {
   "display_name": "Python 3",
   "language": "python",
   "name": "python3"
  },
  "language_info": {
   "codemirror_mode": {
    "name": "ipython",
    "version": 3
   },
   "file_extension": ".py",
   "mimetype": "text/x-python",
   "name": "python",
   "nbconvert_exporter": "python",
   "pygments_lexer": "ipython3",
   "version": "3.7.3"
  }
 },
 "nbformat": 4,
 "nbformat_minor": 2
}
